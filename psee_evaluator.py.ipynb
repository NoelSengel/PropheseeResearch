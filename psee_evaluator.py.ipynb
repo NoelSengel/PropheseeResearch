{
 "cells": [
  {
   "cell_type": "code",
   "execution_count": 2,
   "id": "6e955753",
   "metadata": {},
   "outputs": [],
   "source": [
    "import sys\n",
    "sys.path.insert(0, 'C:/Users/Noel/Untitled Folder/Prophesee Data Set/src/io')\n",
    "sys.path.insert(0, 'C:/Users/Noel/Untitled Folder/Prophesee Data Set/src/metrics')\n",
    "sys.path.insert(0, 'C:/Users/Noel/Untitled Folder/Prophesee Data Set/src/visualize')   "
   ]
  },
  {
   "cell_type": "code",
   "execution_count": 17,
   "id": "a611b8d1",
   "metadata": {},
   "outputs": [
    {
     "ename": "ModuleNotFoundError",
     "evalue": "No module named 'coco_eval'",
     "output_type": "error",
     "traceback": [
      "\u001b[1;31m---------------------------------------------------------------------------\u001b[0m",
      "\u001b[1;31mModuleNotFoundError\u001b[0m                       Traceback (most recent call last)",
      "Cell \u001b[1;32mIn[17], line 15\u001b[0m\n\u001b[0;32m     13\u001b[0m \u001b[38;5;28;01mimport\u001b[39;00m \u001b[38;5;21;01mmetrics\u001b[39;00m \u001b[38;5;28;01mas\u001b[39;00m \u001b[38;5;21;01mmetrics\u001b[39;00m\n\u001b[0;32m     14\u001b[0m \u001b[38;5;28;01mfrom\u001b[39;00m \u001b[38;5;21;01mmetrics\u001b[39;00m \u001b[38;5;28;01mimport\u001b[39;00m coco_eval\n\u001b[1;32m---> 15\u001b[0m \u001b[38;5;28;01mfrom\u001b[39;00m \u001b[38;5;21;01mcoco_eval\u001b[39;00m \u001b[38;5;28;01mimport\u001b[39;00m evalute_detection\n\u001b[0;32m     16\u001b[0m \u001b[38;5;66;03m#from metrics.coco_eval import evaluate_detection\u001b[39;00m\n\u001b[0;32m     17\u001b[0m \n\u001b[0;32m     18\u001b[0m \u001b[38;5;66;03m#from src.io.box_filtering import filter_boxes\u001b[39;00m\n\u001b[0;32m     19\u001b[0m \u001b[38;5;66;03m#from src.io.box_loading import reformat_boxes\u001b[39;00m\n\u001b[0;32m     22\u001b[0m \u001b[38;5;28;01mdef\u001b[39;00m \u001b[38;5;21mevaluate_folders\u001b[39m(dt_folder, gt_folder, camera):\n",
      "\u001b[1;31mModuleNotFoundError\u001b[0m: No module named 'coco_eval'"
     ]
    }
   ],
   "source": [
    "# Copyright (c) Prophesee S.A.\n",
    "#\n",
    "# Licensed under the Apache License, Version 2.0 (the \"License\");\n",
    "# you may not use this file except in compliance with the License.\n",
    "# You may obtain a copy of the License at http://www.apache.org/licenses/LICENSE-2.0\n",
    "# Unless required by applicable law or agreed to in writing, software distributed under the License is distributed\n",
    "# on an \"AS IS\" BASIS, WITHOUT WARRANTIES OR CONDITIONS OF ANY KIND, either express or implied.\n",
    "# See the License for the specific language governing permissions and limitations under the License.\n",
    "\n",
    "import glob\n",
    "import numpy as np\n",
    "import argparse\n",
    "import metrics as metrics\n",
    "from metrics import coco_eval\n",
    "from coco_eval import evalute_detection\n",
    "#from metrics.coco_eval import evaluate_detection\n",
    "\n",
    "#from src.io.box_filtering import filter_boxes\n",
    "#from src.io.box_loading import reformat_boxes\n",
    "\n",
    "\n",
    "def evaluate_folders(dt_folder, gt_folder, camera):\n",
    "    dt_file_paths = sorted(glob.glob(dt_folder+'/*.npy'))\n",
    "    gt_file_paths = sorted(glob.glob(gt_folder+'/*.npy'))\n",
    "    assert len(dt_file_paths) == len(gt_file_paths)\n",
    "    print(\"There are {} GT bboxes and {} PRED bboxes\".format(len(gt_file_paths), len(dt_file_paths)))\n",
    "    result_boxes_list = [np.load(p) for p in dt_file_paths]\n",
    "    gt_boxes_list = [np.load(p) for p in gt_file_paths]\n",
    "\n",
    "    result_boxes_list = [reformat_boxes(p) for p in result_boxes_list]\n",
    "    gt_boxes_list = [reformat_boxes(p) for p in gt_boxes_list]\n",
    "\n",
    "    min_box_diag = 60 if camera == 'GEN4' else 30\n",
    "    min_box_side = 20 if camera == 'GEN1' else 10\n",
    "\n",
    "    filter_boxes_fn = lambda x:filter_boxes(x, int(1e5), min_box_diag, min_box_side)\n",
    "\n",
    "    gt_boxes_list = map(filter_boxes_fn, gt_boxes_list)\n",
    "    result_boxes_list = map(filter_boxes_fn, result_boxes_list)\n",
    "    evaluate_detection(gt_boxes_list, result_boxes_list)\n",
    "\n",
    "\n",
    "def main():\n",
    "    parser = argparse.ArgumentParser(prog='psee_evaluator.py')\n",
    "    parser.add_argument('gt_folder', type=str, help='GT folder containing .npy files')\n",
    "    parser.add_argument('dt_folder', type=str, help='RESULT folder containing .npy files')\n",
    "    parser.add_argument('--camera', type=str, default='GEN4', help='GEN1 (QVGA) or GEN4 (720p)')\n",
    "    opt = parser.parse_args()\n",
    "    evaluate_folders(opt.dt_folder, opt.gt_folder, opt.camera)\n",
    "\n",
    "\n",
    "if __name__ == '__main__':\n",
    "    main()"
   ]
  },
  {
   "cell_type": "code",
   "execution_count": null,
   "id": "282e3e80-fe36-44a6-9b7d-221c8748b54c",
   "metadata": {},
   "outputs": [],
   "source": []
  },
  {
   "cell_type": "code",
   "execution_count": null,
   "id": "1758c5ba-a68d-42f3-bd7c-d37ef9e43ae1",
   "metadata": {},
   "outputs": [],
   "source": []
  }
 ],
 "metadata": {
  "kernelspec": {
   "display_name": "Python 3 (ipykernel)",
   "language": "python",
   "name": "python3"
  },
  "language_info": {
   "codemirror_mode": {
    "name": "ipython",
    "version": 3
   },
   "file_extension": ".py",
   "mimetype": "text/x-python",
   "name": "python",
   "nbconvert_exporter": "python",
   "pygments_lexer": "ipython3",
   "version": "3.9.16"
  }
 },
 "nbformat": 4,
 "nbformat_minor": 5
}
